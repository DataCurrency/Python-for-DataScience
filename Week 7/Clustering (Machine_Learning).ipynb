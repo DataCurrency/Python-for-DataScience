{
 "cells": [
  {
   "cell_type": "code",
   "execution_count": 3,
   "metadata": {},
   "outputs": [],
   "source": [
    "import numpy as np\n",
    "import utils\n",
    "\n",
    "from sklearn.cluster import KMeans\n",
    "from sklearn.preprocessing import StandardScaler\n",
    "\n",
    "import pandas as pd\n",
    "from pandas.tools.plotting import parallel_coordinates\n",
    "\n",
    "from itertools import cycle, islice\n",
    "\n",
    "import matplotlib.pyplot as plt"
   ]
  },
  {
   "cell_type": "code",
   "execution_count": 4,
   "metadata": {},
   "outputs": [],
   "source": [
    "data_path = '/Users/kayshahbaaz/Desktop/minute_weather.csv'"
   ]
  },
  {
   "cell_type": "code",
   "execution_count": 5,
   "metadata": {},
   "outputs": [],
   "source": [
    "data = pd.read_csv(data_path)"
   ]
  },
  {
   "cell_type": "code",
   "execution_count": 6,
   "metadata": {},
   "outputs": [
    {
     "data": {
      "text/html": [
       "<div>\n",
       "<style scoped>\n",
       "    .dataframe tbody tr th:only-of-type {\n",
       "        vertical-align: middle;\n",
       "    }\n",
       "\n",
       "    .dataframe tbody tr th {\n",
       "        vertical-align: top;\n",
       "    }\n",
       "\n",
       "    .dataframe thead th {\n",
       "        text-align: right;\n",
       "    }\n",
       "</style>\n",
       "<table border=\"1\" class=\"dataframe\">\n",
       "  <thead>\n",
       "    <tr style=\"text-align: right;\">\n",
       "      <th></th>\n",
       "      <th>rowID</th>\n",
       "      <th>hpwren_timestamp</th>\n",
       "      <th>air_pressure</th>\n",
       "      <th>air_temp</th>\n",
       "      <th>avg_wind_direction</th>\n",
       "      <th>avg_wind_speed</th>\n",
       "      <th>max_wind_direction</th>\n",
       "      <th>max_wind_speed</th>\n",
       "      <th>min_wind_direction</th>\n",
       "      <th>min_wind_speed</th>\n",
       "      <th>rain_accumulation</th>\n",
       "      <th>rain_duration</th>\n",
       "      <th>relative_humidity</th>\n",
       "    </tr>\n",
       "  </thead>\n",
       "  <tbody>\n",
       "    <tr>\n",
       "      <th>0</th>\n",
       "      <td>0</td>\n",
       "      <td>2011-09-10 00:00:49</td>\n",
       "      <td>912.3</td>\n",
       "      <td>64.76</td>\n",
       "      <td>97.0</td>\n",
       "      <td>1.2</td>\n",
       "      <td>106.0</td>\n",
       "      <td>1.6</td>\n",
       "      <td>85.0</td>\n",
       "      <td>1.0</td>\n",
       "      <td>NaN</td>\n",
       "      <td>NaN</td>\n",
       "      <td>60.5</td>\n",
       "    </tr>\n",
       "    <tr>\n",
       "      <th>1</th>\n",
       "      <td>1</td>\n",
       "      <td>2011-09-10 00:01:49</td>\n",
       "      <td>912.3</td>\n",
       "      <td>63.86</td>\n",
       "      <td>161.0</td>\n",
       "      <td>0.8</td>\n",
       "      <td>215.0</td>\n",
       "      <td>1.5</td>\n",
       "      <td>43.0</td>\n",
       "      <td>0.2</td>\n",
       "      <td>0.0</td>\n",
       "      <td>0.0</td>\n",
       "      <td>39.9</td>\n",
       "    </tr>\n",
       "    <tr>\n",
       "      <th>2</th>\n",
       "      <td>2</td>\n",
       "      <td>2011-09-10 00:02:49</td>\n",
       "      <td>912.3</td>\n",
       "      <td>64.22</td>\n",
       "      <td>77.0</td>\n",
       "      <td>0.7</td>\n",
       "      <td>143.0</td>\n",
       "      <td>1.2</td>\n",
       "      <td>324.0</td>\n",
       "      <td>0.3</td>\n",
       "      <td>0.0</td>\n",
       "      <td>0.0</td>\n",
       "      <td>43.0</td>\n",
       "    </tr>\n",
       "    <tr>\n",
       "      <th>3</th>\n",
       "      <td>3</td>\n",
       "      <td>2011-09-10 00:03:49</td>\n",
       "      <td>912.3</td>\n",
       "      <td>64.40</td>\n",
       "      <td>89.0</td>\n",
       "      <td>1.2</td>\n",
       "      <td>112.0</td>\n",
       "      <td>1.6</td>\n",
       "      <td>12.0</td>\n",
       "      <td>0.7</td>\n",
       "      <td>0.0</td>\n",
       "      <td>0.0</td>\n",
       "      <td>49.5</td>\n",
       "    </tr>\n",
       "    <tr>\n",
       "      <th>4</th>\n",
       "      <td>4</td>\n",
       "      <td>2011-09-10 00:04:49</td>\n",
       "      <td>912.3</td>\n",
       "      <td>64.40</td>\n",
       "      <td>185.0</td>\n",
       "      <td>0.4</td>\n",
       "      <td>260.0</td>\n",
       "      <td>1.0</td>\n",
       "      <td>100.0</td>\n",
       "      <td>0.1</td>\n",
       "      <td>0.0</td>\n",
       "      <td>0.0</td>\n",
       "      <td>58.8</td>\n",
       "    </tr>\n",
       "  </tbody>\n",
       "</table>\n",
       "</div>"
      ],
      "text/plain": [
       "   rowID     hpwren_timestamp  air_pressure  air_temp  avg_wind_direction  \\\n",
       "0      0  2011-09-10 00:00:49         912.3     64.76                97.0   \n",
       "1      1  2011-09-10 00:01:49         912.3     63.86               161.0   \n",
       "2      2  2011-09-10 00:02:49         912.3     64.22                77.0   \n",
       "3      3  2011-09-10 00:03:49         912.3     64.40                89.0   \n",
       "4      4  2011-09-10 00:04:49         912.3     64.40               185.0   \n",
       "\n",
       "   avg_wind_speed  max_wind_direction  max_wind_speed  min_wind_direction  \\\n",
       "0             1.2               106.0             1.6                85.0   \n",
       "1             0.8               215.0             1.5                43.0   \n",
       "2             0.7               143.0             1.2               324.0   \n",
       "3             1.2               112.0             1.6                12.0   \n",
       "4             0.4               260.0             1.0               100.0   \n",
       "\n",
       "   min_wind_speed  rain_accumulation  rain_duration  relative_humidity  \n",
       "0             1.0                NaN            NaN               60.5  \n",
       "1             0.2                0.0            0.0               39.9  \n",
       "2             0.3                0.0            0.0               43.0  \n",
       "3             0.7                0.0            0.0               49.5  \n",
       "4             0.1                0.0            0.0               58.8  "
      ]
     },
     "execution_count": 6,
     "metadata": {},
     "output_type": "execute_result"
    }
   ],
   "source": [
    "data.head()"
   ]
  },
  {
   "cell_type": "code",
   "execution_count": 7,
   "metadata": {},
   "outputs": [
    {
     "data": {
      "text/plain": [
       "(1587257, 13)"
      ]
     },
     "execution_count": 7,
     "metadata": {},
     "output_type": "execute_result"
    }
   ],
   "source": [
    "data.shape"
   ]
  },
  {
   "cell_type": "code",
   "execution_count": 8,
   "metadata": {},
   "outputs": [],
   "source": [
    "sampled_data = data[data['rowID'] % 10 ==0]"
   ]
  },
  {
   "cell_type": "code",
   "execution_count": 9,
   "metadata": {},
   "outputs": [
    {
     "data": {
      "text/plain": [
       "(158726, 13)"
      ]
     },
     "execution_count": 9,
     "metadata": {},
     "output_type": "execute_result"
    }
   ],
   "source": [
    "sampled_data.shape"
   ]
  },
  {
   "cell_type": "code",
   "execution_count": 10,
   "metadata": {},
   "outputs": [
    {
     "data": {
      "text/html": [
       "<div>\n",
       "<style scoped>\n",
       "    .dataframe tbody tr th:only-of-type {\n",
       "        vertical-align: middle;\n",
       "    }\n",
       "\n",
       "    .dataframe tbody tr th {\n",
       "        vertical-align: top;\n",
       "    }\n",
       "\n",
       "    .dataframe thead th {\n",
       "        text-align: right;\n",
       "    }\n",
       "</style>\n",
       "<table border=\"1\" class=\"dataframe\">\n",
       "  <thead>\n",
       "    <tr style=\"text-align: right;\">\n",
       "      <th></th>\n",
       "      <th>rowID</th>\n",
       "      <th>air_pressure</th>\n",
       "      <th>air_temp</th>\n",
       "      <th>avg_wind_direction</th>\n",
       "      <th>avg_wind_speed</th>\n",
       "      <th>max_wind_direction</th>\n",
       "      <th>max_wind_speed</th>\n",
       "      <th>min_wind_direction</th>\n",
       "      <th>min_wind_speed</th>\n",
       "      <th>rain_accumulation</th>\n",
       "      <th>rain_duration</th>\n",
       "      <th>relative_humidity</th>\n",
       "    </tr>\n",
       "  </thead>\n",
       "  <tbody>\n",
       "    <tr>\n",
       "      <th>count</th>\n",
       "      <td>1.587260e+05</td>\n",
       "      <td>158726.000000</td>\n",
       "      <td>158726.000000</td>\n",
       "      <td>158680.000000</td>\n",
       "      <td>158680.000000</td>\n",
       "      <td>158680.000000</td>\n",
       "      <td>158680.000000</td>\n",
       "      <td>158680.000000</td>\n",
       "      <td>158680.000000</td>\n",
       "      <td>158725.000000</td>\n",
       "      <td>158725.000000</td>\n",
       "      <td>158726.000000</td>\n",
       "    </tr>\n",
       "    <tr>\n",
       "      <th>mean</th>\n",
       "      <td>7.936250e+05</td>\n",
       "      <td>916.830161</td>\n",
       "      <td>61.851589</td>\n",
       "      <td>162.156100</td>\n",
       "      <td>2.775215</td>\n",
       "      <td>163.462144</td>\n",
       "      <td>3.400558</td>\n",
       "      <td>166.774017</td>\n",
       "      <td>2.134664</td>\n",
       "      <td>0.000318</td>\n",
       "      <td>0.409627</td>\n",
       "      <td>47.609470</td>\n",
       "    </tr>\n",
       "    <tr>\n",
       "      <th>std</th>\n",
       "      <td>4.582039e+05</td>\n",
       "      <td>3.051717</td>\n",
       "      <td>11.833569</td>\n",
       "      <td>95.278201</td>\n",
       "      <td>2.057624</td>\n",
       "      <td>92.452139</td>\n",
       "      <td>2.418802</td>\n",
       "      <td>97.441109</td>\n",
       "      <td>1.742113</td>\n",
       "      <td>0.011236</td>\n",
       "      <td>8.665523</td>\n",
       "      <td>26.214409</td>\n",
       "    </tr>\n",
       "    <tr>\n",
       "      <th>min</th>\n",
       "      <td>0.000000e+00</td>\n",
       "      <td>905.000000</td>\n",
       "      <td>31.640000</td>\n",
       "      <td>0.000000</td>\n",
       "      <td>0.000000</td>\n",
       "      <td>0.000000</td>\n",
       "      <td>0.100000</td>\n",
       "      <td>0.000000</td>\n",
       "      <td>0.000000</td>\n",
       "      <td>0.000000</td>\n",
       "      <td>0.000000</td>\n",
       "      <td>0.900000</td>\n",
       "    </tr>\n",
       "    <tr>\n",
       "      <th>25%</th>\n",
       "      <td>3.968125e+05</td>\n",
       "      <td>914.800000</td>\n",
       "      <td>52.700000</td>\n",
       "      <td>62.000000</td>\n",
       "      <td>1.300000</td>\n",
       "      <td>68.000000</td>\n",
       "      <td>1.600000</td>\n",
       "      <td>76.000000</td>\n",
       "      <td>0.800000</td>\n",
       "      <td>0.000000</td>\n",
       "      <td>0.000000</td>\n",
       "      <td>24.700000</td>\n",
       "    </tr>\n",
       "    <tr>\n",
       "      <th>50%</th>\n",
       "      <td>7.936250e+05</td>\n",
       "      <td>916.700000</td>\n",
       "      <td>62.240000</td>\n",
       "      <td>182.000000</td>\n",
       "      <td>2.200000</td>\n",
       "      <td>187.000000</td>\n",
       "      <td>2.700000</td>\n",
       "      <td>180.000000</td>\n",
       "      <td>1.600000</td>\n",
       "      <td>0.000000</td>\n",
       "      <td>0.000000</td>\n",
       "      <td>44.700000</td>\n",
       "    </tr>\n",
       "    <tr>\n",
       "      <th>75%</th>\n",
       "      <td>1.190438e+06</td>\n",
       "      <td>918.700000</td>\n",
       "      <td>70.880000</td>\n",
       "      <td>217.000000</td>\n",
       "      <td>3.800000</td>\n",
       "      <td>223.000000</td>\n",
       "      <td>4.600000</td>\n",
       "      <td>212.000000</td>\n",
       "      <td>3.000000</td>\n",
       "      <td>0.000000</td>\n",
       "      <td>0.000000</td>\n",
       "      <td>68.000000</td>\n",
       "    </tr>\n",
       "    <tr>\n",
       "      <th>max</th>\n",
       "      <td>1.587250e+06</td>\n",
       "      <td>929.500000</td>\n",
       "      <td>99.500000</td>\n",
       "      <td>359.000000</td>\n",
       "      <td>31.900000</td>\n",
       "      <td>359.000000</td>\n",
       "      <td>36.000000</td>\n",
       "      <td>359.000000</td>\n",
       "      <td>31.600000</td>\n",
       "      <td>3.120000</td>\n",
       "      <td>2960.000000</td>\n",
       "      <td>93.000000</td>\n",
       "    </tr>\n",
       "  </tbody>\n",
       "</table>\n",
       "</div>"
      ],
      "text/plain": [
       "              rowID   air_pressure       air_temp  avg_wind_direction  \\\n",
       "count  1.587260e+05  158726.000000  158726.000000       158680.000000   \n",
       "mean   7.936250e+05     916.830161      61.851589          162.156100   \n",
       "std    4.582039e+05       3.051717      11.833569           95.278201   \n",
       "min    0.000000e+00     905.000000      31.640000            0.000000   \n",
       "25%    3.968125e+05     914.800000      52.700000           62.000000   \n",
       "50%    7.936250e+05     916.700000      62.240000          182.000000   \n",
       "75%    1.190438e+06     918.700000      70.880000          217.000000   \n",
       "max    1.587250e+06     929.500000      99.500000          359.000000   \n",
       "\n",
       "       avg_wind_speed  max_wind_direction  max_wind_speed  min_wind_direction  \\\n",
       "count   158680.000000       158680.000000   158680.000000       158680.000000   \n",
       "mean         2.775215          163.462144        3.400558          166.774017   \n",
       "std          2.057624           92.452139        2.418802           97.441109   \n",
       "min          0.000000            0.000000        0.100000            0.000000   \n",
       "25%          1.300000           68.000000        1.600000           76.000000   \n",
       "50%          2.200000          187.000000        2.700000          180.000000   \n",
       "75%          3.800000          223.000000        4.600000          212.000000   \n",
       "max         31.900000          359.000000       36.000000          359.000000   \n",
       "\n",
       "       min_wind_speed  rain_accumulation  rain_duration  relative_humidity  \n",
       "count   158680.000000      158725.000000  158725.000000      158726.000000  \n",
       "mean         2.134664           0.000318       0.409627          47.609470  \n",
       "std          1.742113           0.011236       8.665523          26.214409  \n",
       "min          0.000000           0.000000       0.000000           0.900000  \n",
       "25%          0.800000           0.000000       0.000000          24.700000  \n",
       "50%          1.600000           0.000000       0.000000          44.700000  \n",
       "75%          3.000000           0.000000       0.000000          68.000000  \n",
       "max         31.600000           3.120000    2960.000000          93.000000  "
      ]
     },
     "execution_count": 10,
     "metadata": {},
     "output_type": "execute_result"
    }
   ],
   "source": [
    "sampled_data.describe()"
   ]
  },
  {
   "cell_type": "code",
   "execution_count": 11,
   "metadata": {},
   "outputs": [
    {
     "data": {
      "text/html": [
       "<div>\n",
       "<style scoped>\n",
       "    .dataframe tbody tr th:only-of-type {\n",
       "        vertical-align: middle;\n",
       "    }\n",
       "\n",
       "    .dataframe tbody tr th {\n",
       "        vertical-align: top;\n",
       "    }\n",
       "\n",
       "    .dataframe thead th {\n",
       "        text-align: right;\n",
       "    }\n",
       "</style>\n",
       "<table border=\"1\" class=\"dataframe\">\n",
       "  <thead>\n",
       "    <tr style=\"text-align: right;\">\n",
       "      <th></th>\n",
       "      <th>count</th>\n",
       "      <th>mean</th>\n",
       "      <th>std</th>\n",
       "      <th>min</th>\n",
       "      <th>25%</th>\n",
       "      <th>50%</th>\n",
       "      <th>75%</th>\n",
       "      <th>max</th>\n",
       "    </tr>\n",
       "  </thead>\n",
       "  <tbody>\n",
       "    <tr>\n",
       "      <th>rowID</th>\n",
       "      <td>158726.0</td>\n",
       "      <td>793625.000000</td>\n",
       "      <td>458203.937509</td>\n",
       "      <td>0.00</td>\n",
       "      <td>396812.5</td>\n",
       "      <td>793625.00</td>\n",
       "      <td>1190437.50</td>\n",
       "      <td>1587250.00</td>\n",
       "    </tr>\n",
       "    <tr>\n",
       "      <th>air_pressure</th>\n",
       "      <td>158726.0</td>\n",
       "      <td>916.830161</td>\n",
       "      <td>3.051717</td>\n",
       "      <td>905.00</td>\n",
       "      <td>914.8</td>\n",
       "      <td>916.70</td>\n",
       "      <td>918.70</td>\n",
       "      <td>929.50</td>\n",
       "    </tr>\n",
       "    <tr>\n",
       "      <th>air_temp</th>\n",
       "      <td>158726.0</td>\n",
       "      <td>61.851589</td>\n",
       "      <td>11.833569</td>\n",
       "      <td>31.64</td>\n",
       "      <td>52.7</td>\n",
       "      <td>62.24</td>\n",
       "      <td>70.88</td>\n",
       "      <td>99.50</td>\n",
       "    </tr>\n",
       "    <tr>\n",
       "      <th>avg_wind_direction</th>\n",
       "      <td>158680.0</td>\n",
       "      <td>162.156100</td>\n",
       "      <td>95.278201</td>\n",
       "      <td>0.00</td>\n",
       "      <td>62.0</td>\n",
       "      <td>182.00</td>\n",
       "      <td>217.00</td>\n",
       "      <td>359.00</td>\n",
       "    </tr>\n",
       "    <tr>\n",
       "      <th>avg_wind_speed</th>\n",
       "      <td>158680.0</td>\n",
       "      <td>2.775215</td>\n",
       "      <td>2.057624</td>\n",
       "      <td>0.00</td>\n",
       "      <td>1.3</td>\n",
       "      <td>2.20</td>\n",
       "      <td>3.80</td>\n",
       "      <td>31.90</td>\n",
       "    </tr>\n",
       "    <tr>\n",
       "      <th>max_wind_direction</th>\n",
       "      <td>158680.0</td>\n",
       "      <td>163.462144</td>\n",
       "      <td>92.452139</td>\n",
       "      <td>0.00</td>\n",
       "      <td>68.0</td>\n",
       "      <td>187.00</td>\n",
       "      <td>223.00</td>\n",
       "      <td>359.00</td>\n",
       "    </tr>\n",
       "    <tr>\n",
       "      <th>max_wind_speed</th>\n",
       "      <td>158680.0</td>\n",
       "      <td>3.400558</td>\n",
       "      <td>2.418802</td>\n",
       "      <td>0.10</td>\n",
       "      <td>1.6</td>\n",
       "      <td>2.70</td>\n",
       "      <td>4.60</td>\n",
       "      <td>36.00</td>\n",
       "    </tr>\n",
       "    <tr>\n",
       "      <th>min_wind_direction</th>\n",
       "      <td>158680.0</td>\n",
       "      <td>166.774017</td>\n",
       "      <td>97.441109</td>\n",
       "      <td>0.00</td>\n",
       "      <td>76.0</td>\n",
       "      <td>180.00</td>\n",
       "      <td>212.00</td>\n",
       "      <td>359.00</td>\n",
       "    </tr>\n",
       "    <tr>\n",
       "      <th>min_wind_speed</th>\n",
       "      <td>158680.0</td>\n",
       "      <td>2.134664</td>\n",
       "      <td>1.742113</td>\n",
       "      <td>0.00</td>\n",
       "      <td>0.8</td>\n",
       "      <td>1.60</td>\n",
       "      <td>3.00</td>\n",
       "      <td>31.60</td>\n",
       "    </tr>\n",
       "    <tr>\n",
       "      <th>rain_accumulation</th>\n",
       "      <td>158725.0</td>\n",
       "      <td>0.000318</td>\n",
       "      <td>0.011236</td>\n",
       "      <td>0.00</td>\n",
       "      <td>0.0</td>\n",
       "      <td>0.00</td>\n",
       "      <td>0.00</td>\n",
       "      <td>3.12</td>\n",
       "    </tr>\n",
       "    <tr>\n",
       "      <th>rain_duration</th>\n",
       "      <td>158725.0</td>\n",
       "      <td>0.409627</td>\n",
       "      <td>8.665523</td>\n",
       "      <td>0.00</td>\n",
       "      <td>0.0</td>\n",
       "      <td>0.00</td>\n",
       "      <td>0.00</td>\n",
       "      <td>2960.00</td>\n",
       "    </tr>\n",
       "    <tr>\n",
       "      <th>relative_humidity</th>\n",
       "      <td>158726.0</td>\n",
       "      <td>47.609470</td>\n",
       "      <td>26.214409</td>\n",
       "      <td>0.90</td>\n",
       "      <td>24.7</td>\n",
       "      <td>44.70</td>\n",
       "      <td>68.00</td>\n",
       "      <td>93.00</td>\n",
       "    </tr>\n",
       "  </tbody>\n",
       "</table>\n",
       "</div>"
      ],
      "text/plain": [
       "                       count           mean            std     min       25%  \\\n",
       "rowID               158726.0  793625.000000  458203.937509    0.00  396812.5   \n",
       "air_pressure        158726.0     916.830161       3.051717  905.00     914.8   \n",
       "air_temp            158726.0      61.851589      11.833569   31.64      52.7   \n",
       "avg_wind_direction  158680.0     162.156100      95.278201    0.00      62.0   \n",
       "avg_wind_speed      158680.0       2.775215       2.057624    0.00       1.3   \n",
       "max_wind_direction  158680.0     163.462144      92.452139    0.00      68.0   \n",
       "max_wind_speed      158680.0       3.400558       2.418802    0.10       1.6   \n",
       "min_wind_direction  158680.0     166.774017      97.441109    0.00      76.0   \n",
       "min_wind_speed      158680.0       2.134664       1.742113    0.00       0.8   \n",
       "rain_accumulation   158725.0       0.000318       0.011236    0.00       0.0   \n",
       "rain_duration       158725.0       0.409627       8.665523    0.00       0.0   \n",
       "relative_humidity   158726.0      47.609470      26.214409    0.90      24.7   \n",
       "\n",
       "                          50%         75%         max  \n",
       "rowID               793625.00  1190437.50  1587250.00  \n",
       "air_pressure           916.70      918.70      929.50  \n",
       "air_temp                62.24       70.88       99.50  \n",
       "avg_wind_direction     182.00      217.00      359.00  \n",
       "avg_wind_speed           2.20        3.80       31.90  \n",
       "max_wind_direction     187.00      223.00      359.00  \n",
       "max_wind_speed           2.70        4.60       36.00  \n",
       "min_wind_direction     180.00      212.00      359.00  \n",
       "min_wind_speed           1.60        3.00       31.60  \n",
       "rain_accumulation        0.00        0.00        3.12  \n",
       "rain_duration            0.00        0.00     2960.00  \n",
       "relative_humidity       44.70       68.00       93.00  "
      ]
     },
     "execution_count": 11,
     "metadata": {},
     "output_type": "execute_result"
    }
   ],
   "source": [
    "sampled_data.describe().transpose()"
   ]
  },
  {
   "cell_type": "code",
   "execution_count": 13,
   "metadata": {},
   "outputs": [
    {
     "data": {
      "text/plain": [
       "(157812, 13)"
      ]
     },
     "execution_count": 13,
     "metadata": {},
     "output_type": "execute_result"
    }
   ],
   "source": [
    "sampled_data[sampled_data['rain_accumulation'] == 0].shape"
   ]
  },
  {
   "cell_type": "code",
   "execution_count": 14,
   "metadata": {},
   "outputs": [
    {
     "data": {
      "text/plain": [
       "(157237, 13)"
      ]
     },
     "execution_count": 14,
     "metadata": {},
     "output_type": "execute_result"
    }
   ],
   "source": [
    "sampled_data[sampled_data['rain_duration'] == 0].shape"
   ]
  },
  {
   "cell_type": "code",
   "execution_count": 15,
   "metadata": {},
   "outputs": [],
   "source": [
    "del sampled_data['rain_accumulation']"
   ]
  },
  {
   "cell_type": "code",
   "execution_count": 16,
   "metadata": {},
   "outputs": [],
   "source": [
    "del sampled_data['rain_duration']"
   ]
  },
  {
   "cell_type": "code",
   "execution_count": 17,
   "metadata": {},
   "outputs": [
    {
     "data": {
      "text/plain": [
       "(158726, 11)"
      ]
     },
     "execution_count": 17,
     "metadata": {},
     "output_type": "execute_result"
    }
   ],
   "source": [
    "sampled_data.shape"
   ]
  },
  {
   "cell_type": "code",
   "execution_count": 22,
   "metadata": {},
   "outputs": [],
   "source": [
    "sampled_data = sampled_data.dropna()"
   ]
  },
  {
   "cell_type": "code",
   "execution_count": 23,
   "metadata": {},
   "outputs": [
    {
     "data": {
      "text/plain": [
       "(158680, 11)"
      ]
     },
     "execution_count": 23,
     "metadata": {},
     "output_type": "execute_result"
    }
   ],
   "source": [
    "sampled_data.shape"
   ]
  },
  {
   "cell_type": "code",
   "execution_count": 24,
   "metadata": {},
   "outputs": [
    {
     "data": {
      "text/plain": [
       "Index(['rowID', 'hpwren_timestamp', 'air_pressure', 'air_temp',\n",
       "       'avg_wind_direction', 'avg_wind_speed', 'max_wind_direction',\n",
       "       'max_wind_speed', 'min_wind_direction', 'min_wind_speed',\n",
       "       'relative_humidity'],\n",
       "      dtype='object')"
      ]
     },
     "execution_count": 24,
     "metadata": {},
     "output_type": "execute_result"
    }
   ],
   "source": [
    "sampled_data.columns"
   ]
  },
  {
   "cell_type": "code",
   "execution_count": 25,
   "metadata": {},
   "outputs": [],
   "source": [
    "features = list(sampled_data.columns[2:11])"
   ]
  },
  {
   "cell_type": "code",
   "execution_count": 26,
   "metadata": {},
   "outputs": [
    {
     "data": {
      "text/plain": [
       "['air_pressure',\n",
       " 'air_temp',\n",
       " 'avg_wind_direction',\n",
       " 'avg_wind_speed',\n",
       " 'max_wind_direction',\n",
       " 'max_wind_speed',\n",
       " 'min_wind_direction',\n",
       " 'min_wind_speed',\n",
       " 'relative_humidity']"
      ]
     },
     "execution_count": 26,
     "metadata": {},
     "output_type": "execute_result"
    }
   ],
   "source": [
    "features"
   ]
  },
  {
   "cell_type": "code",
   "execution_count": 28,
   "metadata": {},
   "outputs": [],
   "source": [
    "selected_data = sampled_data[features]"
   ]
  },
  {
   "cell_type": "code",
   "execution_count": 29,
   "metadata": {},
   "outputs": [
    {
     "data": {
      "text/plain": [
       "(158680, 9)"
      ]
     },
     "execution_count": 29,
     "metadata": {},
     "output_type": "execute_result"
    }
   ],
   "source": [
    "selected_data.shape"
   ]
  },
  {
   "cell_type": "code",
   "execution_count": 33,
   "metadata": {},
   "outputs": [],
   "source": [
    "x = StandardScaler().fit_transform(selected_data)"
   ]
  },
  {
   "cell_type": "code",
   "execution_count": 34,
   "metadata": {},
   "outputs": [
    {
     "data": {
      "text/plain": [
       "array([[-1.48456281,  0.24544455, -0.68385323, ..., -0.8392174 ,\n",
       "        -0.65131711,  0.49233835],\n",
       "       [-1.48456281,  0.03247142, -0.19055941, ..., -0.53133816,\n",
       "        -0.88092413, -0.34710804],\n",
       "       [-1.51733167,  0.12374562, -0.65236639, ..., -0.77764156,\n",
       "        -0.36430833,  0.40839371],\n",
       "       ...,\n",
       "       [-0.30488381,  1.15818654,  1.90856325, ...,  1.75723085,\n",
       "        -0.5365136 ,  0.01538018],\n",
       "       [-0.30488381,  1.12776181,  2.06599745, ...,  1.84959462,\n",
       "        -0.65131711, -0.04948614],\n",
       "       [-0.30488381,  1.09733708, -1.63895404, ...,  1.8701199 ,\n",
       "        -0.59391535, -0.05711747]])"
      ]
     },
     "execution_count": 34,
     "metadata": {},
     "output_type": "execute_result"
    }
   ],
   "source": [
    "x"
   ]
  },
  {
   "cell_type": "code",
   "execution_count": 39,
   "metadata": {},
   "outputs": [],
   "source": [
    "kmeans = KMeans(n_clusters=12)\n",
    "model = kmeans.fit(x)"
   ]
  },
  {
   "cell_type": "code",
   "execution_count": 40,
   "metadata": {},
   "outputs": [
    {
     "data": {
      "text/plain": [
       "KMeans(algorithm='auto', copy_x=True, init='k-means++', max_iter=300,\n",
       "    n_clusters=12, n_init=10, n_jobs=1, precompute_distances='auto',\n",
       "    random_state=None, tol=0.0001, verbose=0)"
      ]
     },
     "execution_count": 40,
     "metadata": {},
     "output_type": "execute_result"
    }
   ],
   "source": [
    "model"
   ]
  },
  {
   "cell_type": "code",
   "execution_count": 41,
   "metadata": {},
   "outputs": [],
   "source": [
    "centers = model.cluster_centers_"
   ]
  },
  {
   "cell_type": "code",
   "execution_count": 42,
   "metadata": {},
   "outputs": [
    {
     "data": {
      "text/plain": [
       "array([[ 2.25883075e-01,  7.01464032e-01,  1.43119055e+00,\n",
       "        -6.27124186e-01,  1.67671478e+00, -5.81727169e-01,\n",
       "         1.13724176e+00, -6.73412515e-01, -6.86948175e-01],\n",
       "       [-2.91234754e-02, -7.14121031e-01, -1.05488048e+00,\n",
       "        -5.80547269e-01, -9.27129941e-01, -6.06849098e-01,\n",
       "        -1.23326957e+00, -5.15285331e-01,  8.44417954e-01],\n",
       "       [-7.60696921e-01, -1.17916456e+00,  3.68757904e-01,\n",
       "         4.98824966e-01,  4.77773765e-01,  4.85731130e-01,\n",
       "         1.90610628e-01,  4.79128348e-01,  1.32805994e+00],\n",
       "       [-1.10773929e+00, -7.48370300e-01,  4.51362391e-01,\n",
       "         1.99769137e+00,  5.34521345e-01,  1.92033585e+00,\n",
       "         2.84754904e-01,  2.04142219e+00,  8.16670272e-01],\n",
       "       [ 2.86520274e-01,  2.83750080e-01, -1.52890817e+00,\n",
       "        -6.11327843e-01, -1.20658964e+00, -5.37798905e-01,\n",
       "         1.79747680e+00, -6.63469456e-01, -3.63033409e-01],\n",
       "       [-1.69341227e-01,  6.13156593e-01,  4.03380862e-01,\n",
       "         6.11019113e-01,  5.07651046e-01,  5.46097759e-01,\n",
       "         2.45722419e-01,  6.64288990e-01, -2.02707306e-01],\n",
       "       [ 1.36856916e+00, -8.40637856e-02, -1.13240782e+00,\n",
       "         2.92572003e-01, -1.02354717e+00,  3.22532900e-01,\n",
       "        -1.29512339e+00,  2.43944294e-01, -1.00447060e+00],\n",
       "       [ 2.25893306e-01,  2.89884690e-01,  1.89231035e+00,\n",
       "        -6.48266049e-01, -1.55068200e+00, -5.71709055e-01,\n",
       "         1.47567371e+00, -7.04159352e-01, -2.59940204e-01],\n",
       "       [-3.84288575e-02,  7.33348449e-01, -1.20281721e+00,\n",
       "        -5.99286545e-01, -1.11032858e+00, -6.36319906e-01,\n",
       "        -1.35470269e+00, -5.20160257e-01, -6.61170503e-01],\n",
       "       [ 3.40396708e-02, -9.82301309e-01,  6.12275762e-01,\n",
       "        -5.69916756e-01,  8.04962625e-01, -5.44009338e-01,\n",
       "         3.54668059e-01, -5.89571182e-01,  1.17558146e+00],\n",
       "       [ 1.16911813e+00, -2.92859958e-01, -1.15432464e+00,\n",
       "         2.31305806e+00, -1.05877575e+00,  2.41180658e+00,\n",
       "        -1.29963838e+00,  2.08494742e+00, -1.12323039e+00],\n",
       "       [-8.58123475e-02,  6.05010192e-01,  2.37897999e-01,\n",
       "        -6.37464894e-01,  4.24495527e-01, -6.35220370e-01,\n",
       "        -2.38648614e-03, -6.16535087e-01, -4.45254155e-01]])"
      ]
     },
     "execution_count": 42,
     "metadata": {},
     "output_type": "execute_result"
    }
   ],
   "source": [
    "centers"
   ]
  },
  {
   "cell_type": "code",
   "execution_count": 44,
   "metadata": {},
   "outputs": [],
   "source": [
    "def pd_centers(featuresUsed, centers):\n",
    "    colNames = list(featuresUsed)\n",
    "    colNames.append('prediction')\n",
    "    \n",
    "    z = [np.append(A, index) for index, A in enumerate (centers)]\n",
    "    \n",
    "    p = pd.DataFrame(z, columns=colNames)\n",
    "    \n",
    "    p['prediction'] = p['prediction'].astype(int)\n",
    "    \n",
    "    return p"
   ]
  },
  {
   "cell_type": "code",
   "execution_count": 45,
   "metadata": {},
   "outputs": [],
   "source": [
    "def parallel_plot (data):\n",
    "    my_colors = list(islice(cycle(['b','r','g','y','k']), None, len(data)))\n",
    "    plt.figure(figsize=(10,7)).gca().axes.set_ylim([-3,+3])\n",
    "    parallel_coordinates(data, 'prediction', color = my_colors, marker = 'o')"
   ]
  },
  {
   "cell_type": "code",
   "execution_count": 46,
   "metadata": {},
   "outputs": [
    {
     "data": {
      "text/html": [
       "<div>\n",
       "<style scoped>\n",
       "    .dataframe tbody tr th:only-of-type {\n",
       "        vertical-align: middle;\n",
       "    }\n",
       "\n",
       "    .dataframe tbody tr th {\n",
       "        vertical-align: top;\n",
       "    }\n",
       "\n",
       "    .dataframe thead th {\n",
       "        text-align: right;\n",
       "    }\n",
       "</style>\n",
       "<table border=\"1\" class=\"dataframe\">\n",
       "  <thead>\n",
       "    <tr style=\"text-align: right;\">\n",
       "      <th></th>\n",
       "      <th>air_pressure</th>\n",
       "      <th>air_temp</th>\n",
       "      <th>avg_wind_direction</th>\n",
       "      <th>avg_wind_speed</th>\n",
       "      <th>max_wind_direction</th>\n",
       "      <th>max_wind_speed</th>\n",
       "      <th>min_wind_direction</th>\n",
       "      <th>min_wind_speed</th>\n",
       "      <th>relative_humidity</th>\n",
       "      <th>prediction</th>\n",
       "    </tr>\n",
       "  </thead>\n",
       "  <tbody>\n",
       "    <tr>\n",
       "      <th>0</th>\n",
       "      <td>0.225883</td>\n",
       "      <td>0.701464</td>\n",
       "      <td>1.431191</td>\n",
       "      <td>-0.627124</td>\n",
       "      <td>1.676715</td>\n",
       "      <td>-0.581727</td>\n",
       "      <td>1.137242</td>\n",
       "      <td>-0.673413</td>\n",
       "      <td>-0.686948</td>\n",
       "      <td>0</td>\n",
       "    </tr>\n",
       "    <tr>\n",
       "      <th>1</th>\n",
       "      <td>-0.029123</td>\n",
       "      <td>-0.714121</td>\n",
       "      <td>-1.054880</td>\n",
       "      <td>-0.580547</td>\n",
       "      <td>-0.927130</td>\n",
       "      <td>-0.606849</td>\n",
       "      <td>-1.233270</td>\n",
       "      <td>-0.515285</td>\n",
       "      <td>0.844418</td>\n",
       "      <td>1</td>\n",
       "    </tr>\n",
       "    <tr>\n",
       "      <th>2</th>\n",
       "      <td>-0.760697</td>\n",
       "      <td>-1.179165</td>\n",
       "      <td>0.368758</td>\n",
       "      <td>0.498825</td>\n",
       "      <td>0.477774</td>\n",
       "      <td>0.485731</td>\n",
       "      <td>0.190611</td>\n",
       "      <td>0.479128</td>\n",
       "      <td>1.328060</td>\n",
       "      <td>2</td>\n",
       "    </tr>\n",
       "    <tr>\n",
       "      <th>3</th>\n",
       "      <td>-1.107739</td>\n",
       "      <td>-0.748370</td>\n",
       "      <td>0.451362</td>\n",
       "      <td>1.997691</td>\n",
       "      <td>0.534521</td>\n",
       "      <td>1.920336</td>\n",
       "      <td>0.284755</td>\n",
       "      <td>2.041422</td>\n",
       "      <td>0.816670</td>\n",
       "      <td>3</td>\n",
       "    </tr>\n",
       "    <tr>\n",
       "      <th>4</th>\n",
       "      <td>0.286520</td>\n",
       "      <td>0.283750</td>\n",
       "      <td>-1.528908</td>\n",
       "      <td>-0.611328</td>\n",
       "      <td>-1.206590</td>\n",
       "      <td>-0.537799</td>\n",
       "      <td>1.797477</td>\n",
       "      <td>-0.663469</td>\n",
       "      <td>-0.363033</td>\n",
       "      <td>4</td>\n",
       "    </tr>\n",
       "    <tr>\n",
       "      <th>5</th>\n",
       "      <td>-0.169341</td>\n",
       "      <td>0.613157</td>\n",
       "      <td>0.403381</td>\n",
       "      <td>0.611019</td>\n",
       "      <td>0.507651</td>\n",
       "      <td>0.546098</td>\n",
       "      <td>0.245722</td>\n",
       "      <td>0.664289</td>\n",
       "      <td>-0.202707</td>\n",
       "      <td>5</td>\n",
       "    </tr>\n",
       "    <tr>\n",
       "      <th>6</th>\n",
       "      <td>1.368569</td>\n",
       "      <td>-0.084064</td>\n",
       "      <td>-1.132408</td>\n",
       "      <td>0.292572</td>\n",
       "      <td>-1.023547</td>\n",
       "      <td>0.322533</td>\n",
       "      <td>-1.295123</td>\n",
       "      <td>0.243944</td>\n",
       "      <td>-1.004471</td>\n",
       "      <td>6</td>\n",
       "    </tr>\n",
       "    <tr>\n",
       "      <th>7</th>\n",
       "      <td>0.225893</td>\n",
       "      <td>0.289885</td>\n",
       "      <td>1.892310</td>\n",
       "      <td>-0.648266</td>\n",
       "      <td>-1.550682</td>\n",
       "      <td>-0.571709</td>\n",
       "      <td>1.475674</td>\n",
       "      <td>-0.704159</td>\n",
       "      <td>-0.259940</td>\n",
       "      <td>7</td>\n",
       "    </tr>\n",
       "    <tr>\n",
       "      <th>8</th>\n",
       "      <td>-0.038429</td>\n",
       "      <td>0.733348</td>\n",
       "      <td>-1.202817</td>\n",
       "      <td>-0.599287</td>\n",
       "      <td>-1.110329</td>\n",
       "      <td>-0.636320</td>\n",
       "      <td>-1.354703</td>\n",
       "      <td>-0.520160</td>\n",
       "      <td>-0.661171</td>\n",
       "      <td>8</td>\n",
       "    </tr>\n",
       "    <tr>\n",
       "      <th>9</th>\n",
       "      <td>0.034040</td>\n",
       "      <td>-0.982301</td>\n",
       "      <td>0.612276</td>\n",
       "      <td>-0.569917</td>\n",
       "      <td>0.804963</td>\n",
       "      <td>-0.544009</td>\n",
       "      <td>0.354668</td>\n",
       "      <td>-0.589571</td>\n",
       "      <td>1.175581</td>\n",
       "      <td>9</td>\n",
       "    </tr>\n",
       "    <tr>\n",
       "      <th>10</th>\n",
       "      <td>1.169118</td>\n",
       "      <td>-0.292860</td>\n",
       "      <td>-1.154325</td>\n",
       "      <td>2.313058</td>\n",
       "      <td>-1.058776</td>\n",
       "      <td>2.411807</td>\n",
       "      <td>-1.299638</td>\n",
       "      <td>2.084947</td>\n",
       "      <td>-1.123230</td>\n",
       "      <td>10</td>\n",
       "    </tr>\n",
       "    <tr>\n",
       "      <th>11</th>\n",
       "      <td>-0.085812</td>\n",
       "      <td>0.605010</td>\n",
       "      <td>0.237898</td>\n",
       "      <td>-0.637465</td>\n",
       "      <td>0.424496</td>\n",
       "      <td>-0.635220</td>\n",
       "      <td>-0.002386</td>\n",
       "      <td>-0.616535</td>\n",
       "      <td>-0.445254</td>\n",
       "      <td>11</td>\n",
       "    </tr>\n",
       "  </tbody>\n",
       "</table>\n",
       "</div>"
      ],
      "text/plain": [
       "    air_pressure  air_temp  avg_wind_direction  avg_wind_speed  \\\n",
       "0       0.225883  0.701464            1.431191       -0.627124   \n",
       "1      -0.029123 -0.714121           -1.054880       -0.580547   \n",
       "2      -0.760697 -1.179165            0.368758        0.498825   \n",
       "3      -1.107739 -0.748370            0.451362        1.997691   \n",
       "4       0.286520  0.283750           -1.528908       -0.611328   \n",
       "5      -0.169341  0.613157            0.403381        0.611019   \n",
       "6       1.368569 -0.084064           -1.132408        0.292572   \n",
       "7       0.225893  0.289885            1.892310       -0.648266   \n",
       "8      -0.038429  0.733348           -1.202817       -0.599287   \n",
       "9       0.034040 -0.982301            0.612276       -0.569917   \n",
       "10      1.169118 -0.292860           -1.154325        2.313058   \n",
       "11     -0.085812  0.605010            0.237898       -0.637465   \n",
       "\n",
       "    max_wind_direction  max_wind_speed  min_wind_direction  min_wind_speed  \\\n",
       "0             1.676715       -0.581727            1.137242       -0.673413   \n",
       "1            -0.927130       -0.606849           -1.233270       -0.515285   \n",
       "2             0.477774        0.485731            0.190611        0.479128   \n",
       "3             0.534521        1.920336            0.284755        2.041422   \n",
       "4            -1.206590       -0.537799            1.797477       -0.663469   \n",
       "5             0.507651        0.546098            0.245722        0.664289   \n",
       "6            -1.023547        0.322533           -1.295123        0.243944   \n",
       "7            -1.550682       -0.571709            1.475674       -0.704159   \n",
       "8            -1.110329       -0.636320           -1.354703       -0.520160   \n",
       "9             0.804963       -0.544009            0.354668       -0.589571   \n",
       "10           -1.058776        2.411807           -1.299638        2.084947   \n",
       "11            0.424496       -0.635220           -0.002386       -0.616535   \n",
       "\n",
       "    relative_humidity  prediction  \n",
       "0           -0.686948           0  \n",
       "1            0.844418           1  \n",
       "2            1.328060           2  \n",
       "3            0.816670           3  \n",
       "4           -0.363033           4  \n",
       "5           -0.202707           5  \n",
       "6           -1.004471           6  \n",
       "7           -0.259940           7  \n",
       "8           -0.661171           8  \n",
       "9            1.175581           9  \n",
       "10          -1.123230          10  \n",
       "11          -0.445254          11  "
      ]
     },
     "execution_count": 46,
     "metadata": {},
     "output_type": "execute_result"
    }
   ],
   "source": [
    "p = pd_centers(features, centers)\n",
    "p"
   ]
  },
  {
   "cell_type": "code",
   "execution_count": 52,
   "metadata": {},
   "outputs": [
    {
     "name": "stderr",
     "output_type": "stream",
     "text": [
      "/Users/kayshahbaaz/anaconda3/lib/python3.6/site-packages/ipykernel_launcher.py:4: FutureWarning: 'pandas.tools.plotting.parallel_coordinates' is deprecated, import 'pandas.plotting.parallel_coordinates' instead.\n",
      "  after removing the cwd from sys.path.\n"
     ]
    },
    {
     "data": {
      "image/png": "[encoded data removed]",
      "text/plain": [
       "<Figure size 720x504 with 1 Axes>"
      ]
     },
     "metadata": {},
     "output_type": "display_data"
    }
   ],
   "source": [
    "#Dry Days\n",
    "parallel_plot(p[p['relative_humidity'] < -0.5])"
   ]
  },
  {
   "cell_type": "code",
   "execution_count": 50,
   "metadata": {},
   "outputs": [
    {
     "name": "stderr",
     "output_type": "stream",
     "text": [
      "/Users/kayshahbaaz/anaconda3/lib/python3.6/site-packages/ipykernel_launcher.py:4: FutureWarning: 'pandas.tools.plotting.parallel_coordinates' is deprecated, import 'pandas.plotting.parallel_coordinates' instead.\n",
      "  after removing the cwd from sys.path.\n"
     ]
    },
    {
     "data": {
      "image/png": "[encoded data removed]",
      "text/plain": [
       "<Figure size 720x504 with 1 Axes>"
      ]
     },
     "metadata": {},
     "output_type": "display_data"
    }
   ],
   "source": [
    "#warm Days\n",
    "parallel_plot(p[p['air_temp'] > 0.5])"
   ]
  },
  {
   "cell_type": "code",
   "execution_count": 56,
   "metadata": {},
   "outputs": [
    {
     "name": "stderr",
     "output_type": "stream",
     "text": [
      "/Users/kayshahbaaz/anaconda3/lib/python3.6/site-packages/ipykernel_launcher.py:4: FutureWarning: 'pandas.tools.plotting.parallel_coordinates' is deprecated, import 'pandas.plotting.parallel_coordinates' instead.\n",
      "  after removing the cwd from sys.path.\n"
     ]
    },
    {
     "data": {
      "image/png": "[encoded data removed]",
      "text/plain": [
       "<Figure size 720x504 with 1 Axes>"
      ]
     },
     "metadata": {},
     "output_type": "display_data"
    }
   ],
   "source": [
    "#Cool Days\n",
    "parallel_plot(p[(p['relative_humidity'] > 0.5) & (p['air_temp'] < 0.5)])"
   ]
  },
  {
   "cell_type": "markdown",
   "metadata": {},
   "source": [
    "**reference = python for data science by edX**"
   ]
  },
  {
   "cell_type": "code",
   "execution_count": null,
   "metadata": {},
   "outputs": [],
   "source": []
  }
 ],
 "metadata": {
  "kernelspec": {
   "display_name": "Python 3",
   "language": "python",
   "name": "python3"
  },
  "language_info": {
   "codemirror_mode": {
    "name": "ipython",
    "version": 3
   },
   "file_extension": ".py",
   "mimetype": "text/x-python",
   "name": "python",
   "nbconvert_exporter": "python",
   "pygments_lexer": "ipython3",
   "version": "3.6.5"
  }
 },
 "nbformat": 4,
 "nbformat_minor": 2
}
